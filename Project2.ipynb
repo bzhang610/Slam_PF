{
 "cells": [
  {
   "cell_type": "code",
   "execution_count": 303,
   "metadata": {},
   "outputs": [],
   "source": [
    "import numpy as np\n",
    "from map_utils import bresenham2D, mapCorrelation\n",
    "import pandas as pd\n",
    "import cv2\n",
    "from matplotlib import pyplot as plt"
   ]
  },
  {
   "cell_type": "markdown",
   "metadata": {},
   "source": [
    "## Load Datasets"
   ]
  },
  {
   "cell_type": "code",
   "execution_count": 624,
   "metadata": {},
   "outputs": [],
   "source": [
    "dataset = 20\n",
    "\n",
    "with np.load(\"Encoders%d.npz\"%dataset) as data:\n",
    "    encoder_counts = data[\"counts\"] # 4 x n encoder counts\n",
    "    encoder_stamps = data[\"time_stamps\"] # encoder time stamps\n",
    "\n",
    "with np.load(\"Hokuyo%d.npz\"%dataset) as data:\n",
    "    lidar_angle_min = data[\"angle_min\"] # start angle of the scan [rad]\n",
    "    lidar_angle_max = data[\"angle_max\"] # end angle of the scan [rad]\n",
    "    lidar_angle_increment = data[\"angle_increment\"] # angular distance between measurements [rad]\n",
    "    lidar_range_min = data[\"range_min\"] # minimum range value [m]\n",
    "    lidar_range_max = data[\"range_max\"] # maximum range value [m]\n",
    "    lidar_ranges = data[\"ranges\"]       # range data [m] (Note: values < range_min or > range_max should be discarded)\n",
    "    lidar_stamps = data[\"time_stamps\"]  # acquisition times of the lidar scans\n",
    "    \n",
    "with np.load(\"Imu%d.npz\"%dataset) as data:\n",
    "    imu_angular_velocity = data[\"angular_velocity\"] # angular velocity in rad/sec\n",
    "    imu_linear_acceleration = data[\"linear_acceleration\"] # Accelerations in gs (gravity acceleration scaling)\n",
    "    imu_stamps = data[\"time_stamps\"]  # acquisition times of the imu measurements\n",
    "\n",
    "with np.load(\"Kinect%d.npz\"%dataset) as data:\n",
    "    disp_stamps = data[\"disparity_time_stamps\"] # acquisition times of the disparity images\n",
    "    rgb_stamps = data[\"rgb_time_stamps\"] # acquisition times of the rgb images"
   ]
  },
  {
   "cell_type": "markdown",
   "metadata": {},
   "source": [
    "## Preprocess Data"
   ]
  },
  {
   "cell_type": "code",
   "execution_count": 625,
   "metadata": {},
   "outputs": [],
   "source": [
    "lidar_data = np.vstack([lidar_ranges,lidar_stamps])"
   ]
  },
  {
   "cell_type": "code",
   "execution_count": 626,
   "metadata": {},
   "outputs": [],
   "source": [
    "# \n",
    "e_s = encoder_stamps.shape[0]\n",
    "l_s = lidar_stamps.shape[0]\n",
    "i_s = imu_stamps.shape[0]\n",
    "li = np.concatenate([lidar_stamps.reshape([l_s,1]),np.zeros([l_s,1])],1)\n",
    "en = np.concatenate([encoder_stamps.reshape([e_s,1]),np.ones([e_s,1])],1)"
   ]
  },
  {
   "cell_type": "code",
   "execution_count": 627,
   "metadata": {},
   "outputs": [],
   "source": [
    "# [timestamp,type,index] \n",
    "li = np.concatenate([lidar_stamps.reshape([l_s,1]),np.zeros([l_s,1])],1)\n",
    "li = np.concatenate([li,np.asarray(range(l_s)).reshape([l_s,1])],1)\n",
    "en = np.concatenate([encoder_stamps.reshape([e_s,1]),np.ones([e_s,1])],1)\n",
    "en = np.concatenate([en,np.asarray(range(e_s)).reshape([e_s,1])],1)\n",
    "tot = np.vstack([li,en])\n",
    "tot_sorted = tot[np.argsort(tot[:,0])]"
   ]
  },
  {
   "cell_type": "code",
   "execution_count": 628,
   "metadata": {},
   "outputs": [
    {
     "data": {
      "text/plain": [
       "(9918, 3)"
      ]
     },
     "execution_count": 628,
     "metadata": {},
     "output_type": "execute_result"
    }
   ],
   "source": [
    "tot_sorted.shape"
   ]
  },
  {
   "cell_type": "markdown",
   "metadata": {
    "scrolled": true
   },
   "source": [
    "## Motion Model"
   ]
  },
  {
   "cell_type": "code",
   "execution_count": 499,
   "metadata": {},
   "outputs": [],
   "source": [
    "# combine imu and encoder data\n",
    "control = np.zeros([e_s,6]) # [time, FR,FL,RR,RL,W]\n",
    "control[:,0] = encoder_stamps\n",
    "control[:,1:5] = np.transpose(encoder_counts)\n",
    "for i in range(e_s):\n",
    "    idx = np.argmin(abs(imu_stamps - encoder_stamps[i]))\n",
    "    control[i,5] = imu_angular_velocity[2,idx]\n",
    "\n",
    "def motion(X,t):\n",
    "    '''Without noise, for dead reckoning'''\n",
    "    # x = (x1,x2,theta)\n",
    "    current = control[t]\n",
    "    tau = control[t,0] - control[t-1,0]\n",
    "    v_r = (current[1]+current[3])/2*0.0022/tau\n",
    "    v_l = (current[2]+current[4])/2*0.0022/tau\n",
    "    v = (v_r + v_l)/2\n",
    "    omega = current[5]\n",
    "    x1_new = tau * (v*np.sinc(omega*tau/2)*np.cos(X[2]+omega*tau/2))\n",
    "    x2_new = tau * (v*np.sinc(omega*tau/2)*np.sin(X[2]+omega*tau/2))\n",
    "    X[0] += x1_new\n",
    "    X[1] += x2_new\n",
    "    X[2] += tau * omega\n",
    "    return X\n",
    "\n",
    "def motion2(X,t):\n",
    "    '''motion model with noise'''\n",
    "    # x = (x1,x2,theta)\n",
    "    current = control[t]\n",
    "    tau = control[t,0] - control[t-1,0]\n",
    "    v_r = (current[1]+current[3])/2*0.0022/tau\n",
    "    v_l = (current[2]+current[4])/2*0.0022/tau\n",
    "    v = (v_r + v_l)/2\n",
    "    omega = current[5]\n",
    "    x1_new = tau * (v*np.cos(X[2]))\n",
    "    x2_new = tau * (v*np.sin(X[2]))\n",
    "    X[0] += x1_new\n",
    "    X[1] += x2_new\n",
    "    X[2] += tau * omega\n",
    "    noise = np.random.normal(0,1,3)\n",
    "    X = X*(1+0.01*noise)\n",
    "    return X"
   ]
  },
  {
   "cell_type": "code",
   "execution_count": 421,
   "metadata": {},
   "outputs": [],
   "source": [
    "def yaw_to_R(yaw):\n",
    "    R = np.array([[np.cos(yaw),-np.sin(yaw),0],[np.sin(yaw),np.cos(yaw),0],[0,0,1]])\n",
    "    return R"
   ]
  },
  {
   "cell_type": "code",
   "execution_count": 439,
   "metadata": {},
   "outputs": [],
   "source": [
    "def dead(X):\n",
    "    # init log odd map\n",
    "    xy = update(X,0)\n",
    "    cont = xy_to_grid(xy)\n",
    "    map_min = -20\n",
    "    map_max = 20\n",
    "    grid_size = 0.05\n",
    "    m_size = int((map_max - map_min) / grid_size)\n",
    "    center = int(m_size/2)\n",
    "    oc_grid = np.zeros([m_size,m_size])\n",
    "    cv2.drawContours(oc_grid, cont, -1, (1,0,0), 3)\n",
    "    log_map = np.log(oc_grid * (1/4-4) + 4)\n",
    "    '''\n",
    "    for t in range(1,tot_sorted.shape[0]):\n",
    "        if tot_sorted[t,1] == 0 and tot_sorted[t,2]>0:\n",
    "            # update\n",
    "            idx_l = int(tot_sorted[t,2])\n",
    "            xy = update(X,idx_l)\n",
    "            cont = xy_to_grid(xy)\n",
    "            oc_grid = np.zeros([m_size,m_size])\n",
    "            cv2.drawContours(oc_grid, cont, -1, (1,0,0), 3)\n",
    "            log_map += np.log(oc_grid * (1/4-4) + 4)\n",
    "    '''\n",
    "        elif tot_sorted[t,1] ==1:\n",
    "            # move\n",
    "            idx_m = int(tot_sorted[t,2])\n",
    "            X = motion(X,idx_m)\n",
    "    return log_map\n",
    "            "
   ]
  },
  {
   "cell_type": "code",
   "execution_count": 538,
   "metadata": {},
   "outputs": [
    {
     "data": {
      "text/plain": [
       "<matplotlib.image.AxesImage at 0x116392dd8>"
      ]
     },
     "execution_count": 538,
     "metadata": {},
     "output_type": "execute_result"
    },
    {
     "data": {
      "image/png": "[encoded data removed]",
      "text/plain": [
       "<Figure size 432x288 with 1 Axes>"
      ]
     },
     "metadata": {},
     "output_type": "display_data"
    }
   ],
   "source": [
    "# Dead Reckoning\n",
    "map_min = -10\n",
    "map_max = 30\n",
    "grid_size = 0.05\n",
    "m_size = int((map_max - map_min) / grid_size)\n",
    "center = int(-map_min/grid_size)\n",
    "oc_grid = np.zeros([m_size,m_size])\n",
    "\n",
    "cont = xy_grid(track[:,0:2])\n",
    "a = np.transpose(cont).astype(int)\n",
    "cv2.drawContours(oc_grid, [a], -1 ,(1,0,0), 3)\n",
    "plt.imshow(oc_grid)"
   ]
  },
  {
   "cell_type": "code",
   "execution_count": 507,
   "metadata": {},
   "outputs": [
    {
     "data": {
      "text/plain": [
       "<matplotlib.image.AxesImage at 0x1382ed080>"
      ]
     },
     "execution_count": 507,
     "metadata": {},
     "output_type": "execute_result"
    },
    {
     "data": {
      "image/png": "[encoded data removed]",
      "text/plain": [
       "<Figure size 432x288 with 1 Axes>"
      ]
     },
     "metadata": {},
     "output_type": "display_data"
    }
   ],
   "source": [
    "X = np.array([0.,0,0]).reshape([3,1])\n",
    "ma = dead(X)\n",
    "plt.imshow(ma)"
   ]
  },
  {
   "cell_type": "markdown",
   "metadata": {},
   "source": [
    "## Update"
   ]
  },
  {
   "cell_type": "code",
   "execution_count": 575,
   "metadata": {},
   "outputs": [],
   "source": [
    "def get_T(p,R):\n",
    "    '''Get T matrix from p and R'''\n",
    "    T = np.concatenate([R,p],1)\n",
    "    T = np.concatenate([T, np.array([0,0,0,1]).reshape([1,4])])\n",
    "    return T\n",
    "\n",
    "def trans(xyz,T):\n",
    "    '''transform vector using T matrix'''\n",
    "    n = xyz.shape[0] # xyz: nx3\n",
    "    s_old = np.transpose(np.concatenate([xyz,np.ones([n,1])],1))\n",
    "    s_new = np.transpose(np.dot(T,s_old))\n",
    "    xyz_new = s_new[:,:3]\n",
    "    return xyz_new\n",
    "\n",
    "def binary_map(log_map):\n",
    "    '''convert log map to binary map'''\n",
    "    pdf_map = 1-1/(1+np.exp(log_map)) # convert from log_map to pdf_map\n",
    "    bin_map = np.rint(pdf_map) # round to binary map\n",
    "    bin_map = bin_map.astype('int8')\n",
    "    return bin_map"
   ]
  },
  {
   "cell_type": "code",
   "execution_count": 836,
   "metadata": {},
   "outputs": [],
   "source": [
    "def trans(xyz,T):\n",
    "    n = xyz.shape[0] # xyz: nx3\n",
    "    s_old = np.transpose(np.concatenate([xyz,np.ones([n,1])],1))\n",
    "    s_new = np.transpose(np.dot(T,s_old))\n",
    "    xyz_new = s_new[:,:3]\n",
    "    return xyz_new\n",
    "\n",
    "def update(X,idx):\n",
    "    p_lTr = np.array([0.30183,0,0.51435]).reshape([3,1])\n",
    "    R_lTr = np.eye(3)\n",
    "    p_rTw = np.array([X[0],X[1],0]).reshape([3,1])\n",
    "    R_rTw = yaw_to_R(X[2])\n",
    "    lid_range = lidar_ranges[:,idx].reshape([1081,1])\n",
    "    angles = np.asarray(range(1081)).reshape([1081,1])\n",
    "    angles = angles * lidar_angle_increment + lidar_angle_min # 1081 angles \n",
    "    lid_vals_0 = np.concatenate([lid_range,angles],axis = 1) # correspond range and angles\n",
    "    # discard values too small/large\n",
    "    lid_vals_1 = lid_vals_0[lid_vals_0[:,0]>= lidar_range_min]\n",
    "    lid_vals = lid_vals_1[lid_vals_1[:,0] <= lidar_range_max]\n",
    "    # (x,y,z) in lidar frame z=0\n",
    "    xyz_lid = np.zeros([lid_vals.shape[0],3])\n",
    "    xyz_lid[:,0] = lid_vals[:,0]*np.cos(lid_vals[:,1]) # x values\n",
    "    xyz_lid[:,1] = lid_vals[:,0]*np.sin(lid_vals[:,1]) # y values\n",
    "    T_lTr = get_T(p_lTr, R_lTr)\n",
    "    T_rTw = get_T(p_rTw, R_rTw)\n",
    "    # get_coordinate in robot frame \n",
    "    xyz_r = trans(xyz_lid,T_lTr)\n",
    "    xyz_w = trans(xyz_r,T_rTw)\n",
    "    p_lTw = trans(np.transpose(p_lTr),T_rTw)\n",
    "    xy_w = xyz_w[:,:2]\n",
    "    xy_w = xy_w.astype('float32')\n",
    "    return xy_w\n",
    "\n",
    "def xy_to_grid_new(xy):  \n",
    "    # init map, unit meters\n",
    "    map_min = -10\n",
    "    map_max = 30\n",
    "    grid_size = 0.05\n",
    "    m_size = int((map_max - map_min) / grid_size)\n",
    "    center = int(-map_min/grid_size)\n",
    "    oc_grid = np.zeros([m_size,m_size])\n",
    "    \n",
    "    # lidar location in grid\n",
    "    lid_x = p_lTw[0,0]\n",
    "    lid_y = p_lTw[0,1]\n",
    "    lid_x_g = lid_x//grid_size+center\n",
    "    lid_y_g = lid_y//grid_size+center\n",
    "    lid_g = np.asarray([lid_x_g,lid_y_g]).astype(int)\n",
    "    \n",
    "    grid_x = xy[:,0] //grid_size+center\n",
    "    grid_y = xy[:,1] //grid_size+center\n",
    "    grid_xy = np.vstack([grid_x,grid_y])\n",
    "    \n",
    "    cont = []\n",
    "    for i in range(xy.shape[0]):\n",
    "        line = np.array([lid_g,grid_xy[:,i].astype(int)])\n",
    "        cont.append(line)\n",
    "    cv2.drawContours(oc_grid, cont, -1, (1,0,0), 3)\n",
    "    log_map = np.log(oc_grid * (1/9-9) + 9) #90% confident\n",
    "    return log_map\n",
    "\n",
    "def xy_to_grid(xy):  \n",
    "    # init map, unit meters\n",
    "    map_min = -10\n",
    "    map_max = 30\n",
    "    grid_size = 0.05\n",
    "    m_size = int((map_max - map_min) / grid_size)\n",
    "    center = int(-map_min/grid_size)\n",
    "    oc_grid = np.zeros([m_size,m_size])\n",
    "    \n",
    "    # lidar location in grid\n",
    "    lid_x = p_lTw[0,0]\n",
    "    lid_y = p_lTw[0,1]\n",
    "    lid_x_g = lid_x//grid_size+center\n",
    "    lid_y_g = lid_y//grid_size+center\n",
    "    lid_g = np.asarray([lid_x_g,lid_y_g]).astype(int)\n",
    "    \n",
    "    grid_x = xy[:,0] //grid_size+center\n",
    "    grid_y = xy[:,1] //grid_size+center\n",
    "    grid_xy = np.vstack([grid_x,grid_y])\n",
    "    \n",
    "    cont = []\n",
    "    for i in range(xy.shape[0]):\n",
    "        line = np.array([lid_g,grid_xy[:,i].astype(int)])\n",
    "        cont.append(line)\n",
    "    cv2.drawContours(oc_grid, cont, -1, (1,0,0), 1)\n",
    "    log_map = np.log(oc_grid * (1/9-9) + 9) #90% confident\n",
    "    return log_map\n",
    "\n",
    "def get_log_map_new(X,idx):\n",
    "    xy = update(X,idx)\n",
    "    log_map = xy_to_grid_new(xy)\n",
    "    return log_map\n",
    "\n",
    "def get_log_map(X,idx):\n",
    "    xy = update(X,idx)\n",
    "    log_map = xy_to_grid(xy)\n",
    "    return log_map\n",
    "\n",
    "def correlate(X,idx,log_map):\n",
    "    map_min = -10\n",
    "    map_max = 30\n",
    "    grid_size = 0.05\n",
    "    m_size = int((map_max - map_min) / grid_size)\n",
    "    center = int(-map_min/grid_size)\n",
    "    x_im = np.arange(map_min,map_max +grid_size,grid_size) \n",
    "    y_im = np.arange(map_min,map_max +grid_size,grid_size) \n",
    "    x_range = np.arange(-0.2,0.2+0.05,0.05)\n",
    "    y_range = np.arange(-0.2,0.2+0.05,0.05)\n",
    "    MAP = binary_map(log_map)\n",
    "    vp = np.transpose(update(X,idx))\n",
    "    c = mapCorrelation(MAP,x_im,y_im,vp,x_range,y_range)\n",
    "    max_c = np.max(c)\n",
    "    return max_c\n",
    "\n",
    "def softmax(z):\n",
    "    # z-max(z) version of softmax\n",
    "    z_new = z-np.max(z)\n",
    "    sum_z = np.sum(np.exp(z_new))\n",
    "    exp_z = np.exp(z_new)\n",
    "    result = exp_z / sum_z\n",
    "    return result"
   ]
  },
  {
   "cell_type": "code",
   "execution_count": 611,
   "metadata": {},
   "outputs": [
    {
     "data": {
      "text/plain": [
       "<matplotlib.image.AxesImage at 0x13c314320>"
      ]
     },
     "execution_count": 611,
     "metadata": {},
     "output_type": "execute_result"
    },
    {
     "data": {
      "image/png": "[encoded data removed]",
      "text/plain": [
       "<Figure size 432x288 with 1 Axes>"
      ]
     },
     "metadata": {},
     "output_type": "display_data"
    }
   ],
   "source": [
    "# initilaize map\n",
    "X = np.array([0,0,0]).reshape([3,1])\n",
    "m = get_log_map(X,0)\n",
    "plt.imshow(m)"
   ]
  },
  {
   "cell_type": "markdown",
   "metadata": {},
   "source": [
    "## Particle Filter"
   ]
  },
  {
   "cell_type": "code",
   "execution_count": 868,
   "metadata": {},
   "outputs": [],
   "source": [
    "def pf(N):\n",
    "    # init X, log odd map\n",
    "    # number of particles N\n",
    "    # init particles, log odd map\n",
    "    #X = np.zeros([3,N])\n",
    "    X = np.random.normal(0,0.1,[3,N])\n",
    "    \n",
    "    log_map = get_log_map_new(X[:,0],0)\n",
    "    track = np.zeros([e_s,3,N])\n",
    "    log_map_list = [log_map]\n",
    "    #for t in range(1,r):\n",
    "    for t in range(1,tot_sorted.shape[0]):\n",
    "        if tot_sorted[t,1] == 0 and tot_sorted[t,2]>0:\n",
    "            # update\n",
    "            idx = int(tot_sorted[t,2])\n",
    "            # for each particle:\n",
    "            c = np.zeros(N) # for storing correlations\n",
    "            for i in range(N):\n",
    "                # current particle\n",
    "                X_c = X[:,i]\n",
    "                #get corr \n",
    "                c_c = correlate(X_c,idx,log_map)\n",
    "                #print(c_c)\n",
    "                c[i] = c_c\n",
    "            weights = softmax(c)\n",
    "            #print(weights)\n",
    "            #update log_map\n",
    "            idx_max = np.argmax(weights)\n",
    "            log_add = get_log_map(X[:,idx_max],idx) # update using particle with largest weight\n",
    "            log_map_new =log_map_list[-1] + log_add\n",
    "            # constraint on log_odds:\n",
    "            max_val = 2\n",
    "            min_val = -5000\n",
    "            log_map_new[log_map_new > max_val] = max_val\n",
    "            log_map_new[log_map_new < min_val] = min_val\n",
    "            # check for resampling\n",
    "            #SIR\n",
    "            thresh = int(N/4)\n",
    "            N_eff = 1/np.sum(np.square(weights))\n",
    "            if N_eff <= thresh:\n",
    "                random_idx = np.random.randint(N, size=N)\n",
    "                X_new = np.zeros(X.shape)\n",
    "                X_new = X[:,random_idx]\n",
    "                X = X_new\n",
    "                weights = np.ones(N)/N\n",
    "            log_map_list.append(log_map_new)\n",
    "        elif tot_sorted[t,1] ==1 and tot_sorted[t,2]>0:\n",
    "            # move\n",
    "            idx = int(tot_sorted[t,2])\n",
    "            for i in range(N):\n",
    "                X_c = X[:,i]\n",
    "                X[:,i] = motion2(X_c,idx)\n",
    "                track[idx,:,i]=X[:,i]\n",
    "    return log_map_list,track\n",
    "            "
   ]
  },
  {
   "cell_type": "code",
   "execution_count": 647,
   "metadata": {},
   "outputs": [],
   "source": [
    "def plot_track(t,n):\n",
    "    map_min = -10\n",
    "    map_max = 30\n",
    "    grid_size = 0.05\n",
    "    m_size = int((map_max - map_min) / grid_size)\n",
    "    center = int(-map_min/grid_size)\n",
    "    oc_grid = np.zeros([m_size,m_size])\n",
    "\n",
    "    cont = xy_grid(t[:,0:2,n])\n",
    "    a = np.transpose(cont).astype(int)\n",
    "    cv2.drawContours(oc_grid, [a], -1 ,(1,0,0), 3)\n",
    "    return oc_grid"
   ]
  },
  {
   "cell_type": "code",
   "execution_count": null,
   "metadata": {},
   "outputs": [],
   "source": [
    "ma,t = pf(20)"
   ]
  },
  {
   "cell_type": "code",
   "execution_count": null,
   "metadata": {},
   "outputs": [],
   "source": [
    "plt.imshow(ma[-1])"
   ]
  },
  {
   "cell_type": "code",
   "execution_count": null,
   "metadata": {},
   "outputs": [],
   "source": [
    "plt.imshow(binary_map(ma[-1]))"
   ]
  },
  {
   "cell_type": "code",
   "execution_count": 821,
   "metadata": {},
   "outputs": [
    {
     "data": {
      "text/plain": [
       "<matplotlib.image.AxesImage at 0x162609f98>"
      ]
     },
     "execution_count": 821,
     "metadata": {},
     "output_type": "execute_result"
    },
    {
     "data": {
      "image/png": "[encoded data removed]",
      "text/plain": [
       "<Figure size 432x288 with 1 Axes>"
      ]
     },
     "metadata": {},
     "output_type": "display_data"
    }
   ],
   "source": [
    "plt.imshow(plot_track(t,0))"
   ]
  },
  {
   "cell_type": "code",
   "execution_count": 576,
   "metadata": {},
   "outputs": [
    {
     "data": {
      "text/plain": [
       "<matplotlib.image.AxesImage at 0x13ba5f7b8>"
      ]
     },
     "execution_count": 576,
     "metadata": {},
     "output_type": "execute_result"
    },
    {
     "data": {
      "image/png": "[encoded data removed]",
      "text/plain": [
       "<Figure size 432x288 with 1 Axes>"
      ]
     },
     "metadata": {},
     "output_type": "display_data"
    }
   ],
   "source": [
    "bin_map = binary_map(log_map)\n",
    "plt.imshow(bin_map)"
   ]
  }
 ],
 "metadata": {
  "kernelspec": {
   "display_name": "Python 3",
   "language": "python",
   "name": "python3"
  },
  "language_info": {
   "codemirror_mode": {
    "name": "ipython",
    "version": 3
   },
   "file_extension": ".py",
   "mimetype": "text/x-python",
   "name": "python",
   "nbconvert_exporter": "python",
   "pygments_lexer": "ipython3",
   "version": "3.6.5"
  }
 },
 "nbformat": 4,
 "nbformat_minor": 2
}
